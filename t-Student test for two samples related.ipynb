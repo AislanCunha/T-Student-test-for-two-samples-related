{
 "cells": [
  {
   "cell_type": "markdown",
   "id": "4db5a313",
   "metadata": {},
   "source": [
    "# Test for two samples normal and related"
   ]
  },
  {
   "cell_type": "markdown",
   "id": "e95d39a4",
   "metadata": {},
   "source": [
    "### First - Import the libraries"
   ]
  },
  {
   "cell_type": "code",
   "execution_count": 1,
   "id": "2a86dca0",
   "metadata": {},
   "outputs": [],
   "source": [
    "import scipy.stats as stats\n",
    "import pandas as pd\n",
    "import numpy as np"
   ]
  },
  {
   "cell_type": "markdown",
   "id": "3e1f0918",
   "metadata": {},
   "source": [
    "### Second - import the data"
   ]
  },
  {
   "cell_type": "code",
   "execution_count": 2,
   "id": "af059942",
   "metadata": {},
   "outputs": [
    {
     "name": "stdout",
     "output_type": "stream",
     "text": [
      "      A    B\n",
      "0   136  161\n",
      "1   115  140\n",
      "2    88  113\n",
      "3    83  108\n",
      "4   139  164\n",
      "..  ...  ...\n",
      "95  131  156\n",
      "96  121  146\n",
      "97  108  133\n",
      "98  123  148\n",
      "99  127  152\n",
      "\n",
      "[100 rows x 2 columns]\n"
     ]
    }
   ],
   "source": [
    "df = pd.read_csv('Two_Samples_related.csv')\n",
    "print(df)"
   ]
  },
  {
   "cell_type": "markdown",
   "id": "c61f2aa7",
   "metadata": {},
   "source": [
    "### Trird - Test the Normality of samples"
   ]
  },
  {
   "cell_type": "code",
   "execution_count": 3,
   "id": "c831ca8a",
   "metadata": {},
   "outputs": [],
   "source": [
    "a = df['A']\n",
    "b = df['B']"
   ]
  },
  {
   "cell_type": "markdown",
   "id": "47030b30",
   "metadata": {},
   "source": [
    "### Column A"
   ]
  },
  {
   "cell_type": "code",
   "execution_count": 4,
   "id": "b2de9137",
   "metadata": {},
   "outputs": [
    {
     "name": "stdout",
     "output_type": "stream",
     "text": [
      "111.22\n",
      "18.97502569168221\n"
     ]
    }
   ],
   "source": [
    "average_a = np.mean(a)\n",
    "print(average_a)\n",
    "standard_deviation_a = np.std(a-1)\n",
    "print(standard_deviation_a)"
   ]
  },
  {
   "cell_type": "code",
   "execution_count": 5,
   "id": "2ac29770",
   "metadata": {},
   "outputs": [
    {
     "name": "stdout",
     "output_type": "stream",
     "text": [
      "0.09319376225971387\n",
      "0.32957212296464833\n"
     ]
    }
   ],
   "source": [
    "test_value_a, p_value_a = stats.kstest(a, cdf='norm', args=(average_a, standard_deviation_a), N=len(a))\n",
    "print(test_value_a)\n",
    "print(p_value_a)"
   ]
  },
  {
   "cell_type": "code",
   "execution_count": 6,
   "id": "ad1ce9b6",
   "metadata": {},
   "outputs": [
    {
     "name": "stdout",
     "output_type": "stream",
     "text": [
      "The test presented with 95% confidence that the data behaved like a normal distribution.\n"
     ]
    }
   ],
   "source": [
    "if p_value_a > 0.05:\n",
    "    print(\"The test presented with 95% confidence that the data behaved like a normal distribution.\")\n",
    "else:\n",
    "    print(\"The test presented with 95% confidence that the data did not behave like a normal distribution.\")"
   ]
  },
  {
   "cell_type": "markdown",
   "id": "9951405e",
   "metadata": {},
   "source": [
    "### Column B"
   ]
  },
  {
   "cell_type": "code",
   "execution_count": 10,
   "id": "3c261fa8",
   "metadata": {},
   "outputs": [
    {
     "name": "stdout",
     "output_type": "stream",
     "text": [
      "136.22\n",
      "18.97502569168221\n"
     ]
    }
   ],
   "source": [
    "average_b = np.mean(b)\n",
    "print(average_b)\n",
    "standard_deviation_b = np.std(b-1)\n",
    "print(standard_deviation_b)"
   ]
  },
  {
   "cell_type": "code",
   "execution_count": 11,
   "id": "8a7528ca",
   "metadata": {},
   "outputs": [
    {
     "name": "stdout",
     "output_type": "stream",
     "text": [
      "0.09319376225971387\n",
      "0.32957212296464833\n"
     ]
    }
   ],
   "source": [
    "test_value_b, p_value_b = stats.kstest(b, cdf='norm', args=(average_b, standard_deviation_b), N=len(b))\n",
    "print(test_value_b)\n",
    "print(p_value_b)"
   ]
  },
  {
   "cell_type": "code",
   "execution_count": 12,
   "id": "5880d753",
   "metadata": {},
   "outputs": [
    {
     "name": "stdout",
     "output_type": "stream",
     "text": [
      "The test presented with 95% confidence that the data behaved like a normal distribution.\n"
     ]
    }
   ],
   "source": [
    "if p_value_b > 0.05:\n",
    "    print(\"The test presented with 95% confidence that the data behaved like a normal distribution.\")\n",
    "else:\n",
    "    print(\"The test presented with 95% confidence that the data did not behave like a normal distribution.\")"
   ]
  },
  {
   "cell_type": "markdown",
   "id": "e1392785",
   "metadata": {},
   "source": [
    "### Fourth - Do the t-test for two samples"
   ]
  },
  {
   "cell_type": "code",
   "execution_count": 19,
   "id": "3eb9c7f1",
   "metadata": {},
   "outputs": [
    {
     "name": "stdout",
     "output_type": "stream",
     "text": [
      "The test value t-Student to samples related = -inf\n",
      "p value of test t-Student to samples related = 0.0\n"
     ]
    }
   ],
   "source": [
    "ttest_value, p_value_t = stats.mstats.ttest_rel(a, b, axis=0)\n",
    "print (\"The test value t-Student to samples related = \" + str(ttest_value))\n",
    "print (\"p value of test t-Student to samples related = \" + str(p_value_t))"
   ]
  },
  {
   "cell_type": "markdown",
   "id": "086e35c5",
   "metadata": {},
   "source": [
    "### Conclusion"
   ]
  },
  {
   "cell_type": "code",
   "execution_count": 20,
   "id": "91d4213c",
   "metadata": {},
   "outputs": [
    {
     "name": "stdout",
     "output_type": "stream",
     "text": [
      "as the p-value was below 0.05, we must reject the null hypothesis and accept the hypothesis alternative.\n"
     ]
    }
   ],
   "source": [
    "if p_value_t < 0.05:\n",
    "    print(\"as the p-value was below 0.05, we must reject the null hypothesis and accept the hypothesis alternative.\")\n",
    "else:\n",
    "    print(\"since the p-value was above 0.05, we must accept the null hypothesis and reject the alternative hypothesis.\")"
   ]
  },
  {
   "cell_type": "code",
   "execution_count": null,
   "id": "e0f849f6",
   "metadata": {},
   "outputs": [],
   "source": []
  }
 ],
 "metadata": {
  "kernelspec": {
   "display_name": "Python 3 (ipykernel)",
   "language": "python",
   "name": "python3"
  },
  "language_info": {
   "codemirror_mode": {
    "name": "ipython",
    "version": 3
   },
   "file_extension": ".py",
   "mimetype": "text/x-python",
   "name": "python",
   "nbconvert_exporter": "python",
   "pygments_lexer": "ipython3",
   "version": "3.9.7"
  }
 },
 "nbformat": 4,
 "nbformat_minor": 5
}
